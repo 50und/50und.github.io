{
  "cells": [
    {
      "cell_type": "raw",
      "metadata": {},
      "source": [
        "---\n",
        "title: \"Forecasting Crypto Volatility Using Catboost\"\n",
        "author: \"Stephen Coley\"\n",
        "date: \"2023-09-18\"\n",
        "categories: [news, code, analysis]\n",
        "image: \"image.jpg\"\n",
        "---"
      ],
      "id": "9970a876"
    },
    {
      "cell_type": "markdown",
      "metadata": {},
      "source": [
        "Idk man, at this point I'd just like it to render\n",
        "\n",
        "## some changes\n"
      ],
      "id": "3f91bb6a"
    },
    {
      "cell_type": "markdown",
      "metadata": {},
      "source": [
        "## The problem\n",
        "\n",
        "## Imbalanced data\n",
        "\n",
        "from 700k rows we end up with \n",
        "weights\n",
        "\n",
        "## Don't Shuffle\n",
        "\n",
        "Using kfold with shuffling the training and testing scores were nearly identical. Setting shuffle to false fixed this issue. \n",
        "\n",
        "we have imbalanced data, we want to know if the market will move up, down or sideways\n",
        "maybe talk about how we selected days, how granular the data is\n"
      ],
      "id": "200a6389"
    }
  ],
  "metadata": {
    "kernelspec": {
      "name": "python3",
      "language": "python",
      "display_name": "Python 3 (ipykernel)"
    }
  },
  "nbformat": 4,
  "nbformat_minor": 5
}